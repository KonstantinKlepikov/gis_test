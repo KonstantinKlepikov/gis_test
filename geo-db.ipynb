{
 "cells": [
  {
   "cell_type": "code",
   "execution_count": 1,
   "metadata": {},
   "outputs": [],
   "source": [
    "import psycopg2\n",
    "from osgeo import ogr\n",
    "from data import acces"
   ]
  },
  {
   "cell_type": "code",
   "execution_count": 2,
   "metadata": {},
   "outputs": [],
   "source": [
    "connection = psycopg2.connect(dbname=acces.DATABASE_NAME,\n",
    "                             user=acces.USER_NAME,\n",
    "                             password=acces.PASS,\n",
    "                             host='localhost',\n",
    "                             port='5432')"
   ]
  },
  {
   "cell_type": "code",
   "execution_count": 3,
   "metadata": {},
   "outputs": [],
   "source": [
    "with connection:\n",
    "    with connection.cursor() as cursor:\n",
    "        cursor.execute(\"DROP TABLE IF EXISTS borders\")\n",
    "        cursor.execute(\"CREATE TABLE borders (\" +\n",
    "                       \"id SERIAL PRIMARY KEY,\" +\n",
    "                       \"name VARCHAR NOT NULL,\" +\n",
    "                       \"iso_code VARCHAR NOT NULL,\" +\n",
    "                       \"outline GEOGRAPHY)\")\n",
    "        cursor.execute(\"CREATE INDEX border_index ON borders \" +\n",
    "                       \"USING GIST(outline)\")\n",
    "        connection.commit()"
   ]
  },
  {
   "cell_type": "code",
   "execution_count": 4,
   "metadata": {},
   "outputs": [],
   "source": [
    "shapefile = ogr.Open('input/TM_WORLD_BORDERS-0.3/TM_WORLD_BORDERS-0.3.shp')\n",
    "layer = shapefile.GetLayer(0)"
   ]
  },
  {
   "cell_type": "code",
   "execution_count": 5,
   "metadata": {},
   "outputs": [],
   "source": [
    "for i in range(layer.GetFeatureCount()):\n",
    "    feature = layer.GetFeature(i)\n",
    "    name = feature.GetField('NAME')\n",
    "    iso_code = feature.GetField('ISO3')\n",
    "    geometry = feature.GetGeometryRef()\n",
    "    wkt = geometry.ExportToWkt()\n",
    "    with connection:\n",
    "        with connection.cursor() as cursor:\n",
    "            cursor.execute(\"INSERT INTO borders (name, iso_code, outline) \" +\n",
    "                           \"VALUES (%s, %s, ST_GeogFromText(%s))\",\n",
    "                           (name, iso_code, wkt))\n",
    "        connection.commit()"
   ]
  },
  {
   "cell_type": "code",
   "execution_count": 6,
   "metadata": {},
   "outputs": [],
   "source": [
    "start_long = 8.542\n",
    "start_lat = 47.377\n",
    "radius = 500000"
   ]
  },
  {
   "cell_type": "code",
   "execution_count": 7,
   "metadata": {},
   "outputs": [
    {
     "name": "stdout",
     "output_type": "stream",
     "text": [
      "San Marino\n",
      "Austria\n",
      "Czech Republic\n",
      "France\n",
      "Germany\n",
      "Croatia\n",
      "Italy\n",
      "Liechtenstein\n",
      "Belgium\n",
      "Luxembourg\n",
      "Monaco\n",
      "Netherlands\n",
      "Slovenia\n",
      "Switzerland\n"
     ]
    }
   ],
   "source": [
    "with connection:\n",
    "    with connection.cursor() as cursor:\n",
    "        cursor.execute(\"SELECT name FROM borders WHERE ST_DWithin(\" +\n",
    "                       \"ST_MakePoint(%s, %s), outline, %s)\",\n",
    "                       (start_long, start_lat, radius))\n",
    "        for row in cursor:\n",
    "            print(row[0])"
   ]
  },
  {
   "cell_type": "code",
   "execution_count": 8,
   "metadata": {},
   "outputs": [],
   "source": [
    "# обновляем оптимизатор запросов\n",
    "with connection:\n",
    "    with connection.cursor() as cursor:\n",
    "        old_level = connection.isolation_level\n",
    "        connection.set_isolation_level(0)\n",
    "        cursor.execute(\"VACUUM ANALYZE\") \n",
    "        connection.set_isolation_level(old_level)"
   ]
  },
  {
   "cell_type": "code",
   "execution_count": 9,
   "metadata": {},
   "outputs": [],
   "source": [
    "# всегда надо закрывать коннект с базой \n",
    "# (он не закрывается в менеджере контекста)\n",
    "connection.close()"
   ]
  },
  {
   "cell_type": "code",
   "execution_count": 10,
   "metadata": {},
   "outputs": [
    {
     "name": "stdout",
     "output_type": "stream",
     "text": [
      "Hello World!\n"
     ]
    }
   ],
   "source": [
    "connection = psycopg2.connect(host='localhost', \n",
    "                              port='5432', \n",
    "                              database=acces.DATABASE_NAME1, \n",
    "                              user=acces.USER_NAME1, \n",
    "                              password=acces.PASS1)\n",
    "with connection:\n",
    "    with connection.cursor() as cursor:\n",
    "        cursor.execute('SELECT * FROM greeting')\n",
    "        rows = cursor.fetchall() \n",
    "        for row in rows: \n",
    "            print(row[0])\n",
    "connection.close()"
   ]
  },
  {
   "cell_type": "code",
   "execution_count": null,
   "metadata": {
    "deletable": false,
    "editable": false
   },
   "outputs": [],
   "source": [
    "# Connect to your postgres DB\n",
    "conn = psycopg.connect(\"dbname=test user=postgres\")\n",
    "\n",
    "# Open a cursor to perform database operations\n",
    "cur = conn.cursor()\n",
    "\n",
    "# Execute a query\n",
    "cur.execute(\"SELECT * FROM my_data\")\n",
    "\n",
    "# Retrieve query results\n",
    "records = cur.fetchall()"
   ]
  },
  {
   "cell_type": "markdown",
   "metadata": {},
   "source": [
    "[psycopg usage](https://www.psycopg.org/docs/usage.html)\n",
    "\n",
    "The main entry points of Psycopg are:\n",
    "\n",
    "The function connect() creates a new database session and returns a new connection instance.\n",
    "\n",
    "The class connection encapsulates a database session. It allows to:\n",
    "- create new cursor instances using the cursor() method to execute database commands and queries,\n",
    "- terminate transactions using the methods commit() or rollback().\n",
    "\n",
    "The class cursor allows interaction with the database:\n",
    "- send commands to the database using methods such as execute() and executemany(),\n",
    "- retrieve data from the database by iteration or using methods such as fetchone(), fetchmany(), fetchall()."
   ]
  },
  {
   "cell_type": "markdown",
   "metadata": {},
   "source": [
    "Passing parameters to an SQL statement happens in functions such as cursor.execute() by using %s placeholders in the SQL statement, and passing a sequence of values as the second argument of the function. For example the Python function call:\n",
    "```\n",
    ">>> cur.execute(\"\"\"\n",
    "...     INSERT INTO some_table (an_int, a_date, a_string)\n",
    "...     VALUES (%s, %s, %s);\n",
    "...     \"\"\",\n",
    "...     (10, datetime.date(2005, 11, 18), \"O'Reilly\"))\n",
    "```\n",
    "\n",
    "(!) Есть ряд нюансов с более сложными конструкциями и их синтаксисом. См. доку"
   ]
  },
  {
   "cell_type": "markdown",
   "metadata": {},
   "source": [
    "**Warning Never, never, NEVER use Python string concatenation (+) or string parameters interpolation (%) to pass variables to a SQL query string. Not even at gunpoint.**"
   ]
  },
  {
   "cell_type": "markdown",
   "metadata": {},
   "source": [
    "![](img/011.png)"
   ]
  },
  {
   "cell_type": "markdown",
   "metadata": {},
   "source": [
    "**Адаптация констант**\n",
    "\n",
    "```\n",
    ">>> cur.mogrify(\"SELECT %s, %s, %s;\", (None, True, False))\n",
    "'SELECT NULL, true, false;'\n",
    "```\n",
    "\n",
    "**Адаптация чисел**\n",
    "\n",
    "```\n",
    ">>> cur.mogrify(\"SELECT %s, %s, %s, %s;\", (10, 10L, 10.0, Decimal(\"10.00\")))\n",
    "'SELECT 10, 10, 10.0, 10.00;'\n",
    "```\n",
    "\n",
    "Reading from the database, integer types are converted into int, floating point types are converted into float, numeric/decimal are converted into Decimal.\n",
    "\n",
    "**Адаптация строк**\n",
    "\n",
    "Python str and unicode are converted into the SQL string syntax. unicode objects (str in Python 3) are encoded in the connection encoding before sending to the backend: trying to send a character not supported by the encoding will result in an error.\n",
    "\n",
    "Другие адаптации и подробности см. в доке"
   ]
  },
  {
   "cell_type": "markdown",
   "metadata": {},
   "source": [
    "**Транзауции**\n",
    "\n",
    "The connection is responsible for terminating its transaction, calling either the commit() or rollback() method. Committed changes are immediately made persistent in the database. If the connection is closed (using the close() method) or destroyed (using del or by letting it fall out of scope) while a transaction is in progress, the server will discard the transaction. However doing so is not advisable: middleware such as PgBouncer may see the connection closed uncleanly and dispose of it."
   ]
  },
  {
   "cell_type": "markdown",
   "metadata": {},
   "source": [
    "Сonnections and cursors are context managers and can be used with the with statement:"
   ]
  },
  {
   "cell_type": "code",
   "execution_count": null,
   "metadata": {
    "deletable": false,
    "editable": false
   },
   "outputs": [],
   "source": [
    "conn = psycopg2.connect(DSN)\n",
    "\n",
    "with conn:\n",
    "    with conn.cursor() as curs:\n",
    "        curs.execute(SQL1)\n",
    "\n",
    "with conn:\n",
    "    with conn.cursor() as curs:\n",
    "        curs.execute(SQL2)\n",
    "\n",
    "conn.close()"
   ]
  },
  {
   "cell_type": "markdown",
   "metadata": {},
   "source": [
    "**Warning Unlike file objects or other resources, exiting the connection’s with block doesn’t close the connection, but only the transaction associated to it. If you want to make sure the connection is closed after a certain point, you should still use a try-catch block:**"
   ]
  },
  {
   "cell_type": "code",
   "execution_count": null,
   "metadata": {
    "deletable": false,
    "editable": false
   },
   "outputs": [],
   "source": [
    "conn = psycopg2.connect(DSN)\n",
    "try:\n",
    "    # connection usage\n",
    "finally:\n",
    "    conn.close()"
   ]
  },
  {
   "cell_type": "markdown",
   "metadata": {},
   "source": [
    "- [psycopg2 методы](https://www.psycopg.org/docs/module.html)\n",
    "- [connection class](https://www.psycopg.org/docs/connection.html)\n",
    "- [cursor class](https://www.psycopg.org/docs/cursor.html)\n",
    "- [advenced](https://www.psycopg.org/docs/advanced.html)\n",
    "- остальное смотри в доке"
   ]
  },
  {
   "cell_type": "code",
   "execution_count": null,
   "metadata": {},
   "outputs": [],
   "source": []
  }
 ],
 "metadata": {
  "kernelspec": {
   "display_name": "Python 3",
   "language": "python",
   "name": "python3"
  },
  "language_info": {
   "codemirror_mode": {
    "name": "ipython",
    "version": 3
   },
   "file_extension": ".py",
   "mimetype": "text/x-python",
   "name": "python",
   "nbconvert_exporter": "python",
   "pygments_lexer": "ipython3",
   "version": "3.7.8"
  }
 },
 "nbformat": 4,
 "nbformat_minor": 4
}
