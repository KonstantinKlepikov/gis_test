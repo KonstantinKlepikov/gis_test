{
 "cells": [
  {
   "cell_type": "code",
   "execution_count": 1,
   "metadata": {},
   "outputs": [],
   "source": [
    "import psycopg2\n",
    "from osgeo import ogr\n",
    "from data import acces"
   ]
  },
  {
   "cell_type": "code",
   "execution_count": 2,
   "metadata": {},
   "outputs": [],
   "source": [
    "connection = psycopg2.connect(dbname=acces.DATABASE_NAME,\n",
    "                             user=acces.USER_NAME,\n",
    "                             password=acces.PASS,\n",
    "                             host='localhost',\n",
    "                             port='5432')"
   ]
  },
  {
   "cell_type": "code",
   "execution_count": 4,
   "metadata": {},
   "outputs": [],
   "source": [
    "with connection:\n",
    "    with connection.cursor() as cursor:\n",
    "        cursor.execute(\"DROP TABLE IF EXISTS borders\")\n",
    "        cursor.execute(\"CREATE TABLE borders (\" +\n",
    "                       \"id SERIAL PRIMARY KEY,\" +\n",
    "                       \"name VARCHAR NOT NULL,\" +\n",
    "                       \"iso_code VARCHAR NOT NULL,\" +\n",
    "                       \"outline GEOGRAPHY)\")\n",
    "        cursor.execute(\"CREATE INDEX border_index ON borders \" +\n",
    "                       \"USING GIST(outline)\")\n",
    "        connection.commit()"
   ]
  },
  {
   "cell_type": "code",
   "execution_count": 6,
   "metadata": {},
   "outputs": [],
   "source": [
    "shapefile = ogr.Open('input/TM_WORLD_BORDERS-0.3/TM_WORLD_BORDERS-0.3.shp')\n",
    "layer = shapefile.GetLayer(0)"
   ]
  },
  {
   "cell_type": "code",
   "execution_count": 8,
   "metadata": {},
   "outputs": [],
   "source": [
    "for i in range(layer.GetFeatureCount()):\n",
    "    feature = layer.GetFeature(i)\n",
    "    name = feature.GetField('NAME')\n",
    "    iso_code = feature.GetField('ISO3')\n",
    "    geometry = feature.GetGeometryRef()\n",
    "    wkt = geometry.ExportToWkt()\n",
    "    with connection:\n",
    "        with connection.cursor() as cursor:\n",
    "            cursor.execute(\"INSERT INTO borders (name, iso_code, outline) \" +\n",
    "                           \"VALUES (%s, %s, ST_GeogFromText(%s))\",\n",
    "                           (name, iso_code, wkt))\n",
    "        connection.commit()"
   ]
  },
  {
   "cell_type": "code",
   "execution_count": 10,
   "metadata": {},
   "outputs": [],
   "source": [
    "start_long = 8.542\n",
    "start_lat = 47.377\n",
    "radius = 500000"
   ]
  },
  {
   "cell_type": "code",
   "execution_count": 11,
   "metadata": {},
   "outputs": [
    {
     "name": "stdout",
     "output_type": "stream",
     "text": [
      "Switzerland\n",
      "Austria\n",
      "Czech Republic\n",
      "France\n",
      "Germany\n",
      "Croatia\n",
      "Italy\n",
      "Liechtenstein\n",
      "Belgium\n",
      "Luxembourg\n",
      "Monaco\n",
      "Netherlands\n",
      "Slovenia\n",
      "San Marino\n"
     ]
    }
   ],
   "source": [
    "with connection:\n",
    "    with connection.cursor() as cursor:\n",
    "        cursor.execute(\"SELECT name FROM borders WHERE ST_DWithin(\" +\n",
    "                       \"ST_MakePoint(%s, %s), outline, %s)\",\n",
    "                       (start_long, start_lat, radius))\n",
    "        for row in cursor:\n",
    "            print(row[0])"
   ]
  },
  {
   "cell_type": "code",
   "execution_count": 12,
   "metadata": {},
   "outputs": [],
   "source": [
    "# обновляем оптимизатор запросов\n",
    "with connection:\n",
    "    with connection.cursor() as cursor:\n",
    "        old_level = connection.isolation_level\n",
    "        connection.set_isolation_level(0)\n",
    "        cursor.execute(\"VACUUM ANALYZE\") \n",
    "        connection.set_isolation_level(old_level)"
   ]
  },
  {
   "cell_type": "code",
   "execution_count": 13,
   "metadata": {},
   "outputs": [],
   "source": [
    "# всегда надо закрывать коннект с базой (он не закрывается в менеджере контекста)\n",
    "connection.close()"
   ]
  },
  {
   "cell_type": "code",
   "execution_count": null,
   "metadata": {},
   "outputs": [],
   "source": []
  }
 ],
 "metadata": {
  "kernelspec": {
   "display_name": "Python 3",
   "language": "python",
   "name": "python3"
  },
  "language_info": {
   "codemirror_mode": {
    "name": "ipython",
    "version": 3
   },
   "file_extension": ".py",
   "mimetype": "text/x-python",
   "name": "python",
   "nbconvert_exporter": "python",
   "pygments_lexer": "ipython3",
   "version": "3.7.8"
  }
 },
 "nbformat": 4,
 "nbformat_minor": 4
}
